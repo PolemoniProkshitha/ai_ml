{
  "cells": [
    {
      "cell_type": "markdown",
      "metadata": {
        "id": "view-in-github",
        "colab_type": "text"
      },
      "source": [
        "<a href=\"https://colab.research.google.com/github/PolemoniProkshitha/genai_practice/blob/main/EDA_and_Data_Visualization.ipynb\" target=\"_parent\"><img src=\"https://colab.research.google.com/assets/colab-badge.svg\" alt=\"Open In Colab\"/></a>"
      ]
    },
    {
      "metadata": {
        "_uuid": "d629ff2d2480ee46fbb7e2d37f6b5fab8052498a",
        "_cell_guid": "79c7e3d0-c299-4dcb-8224-4455121ee9b0",
        "trusted": true,
        "id": "jIYziVG4WpgN"
      },
      "cell_type": "code",
      "source": [
        "import os\n",
        "import pandas as pd\n",
        "import numpy as np\n",
        "import matplotlib.pyplot as plt\n",
        "import seaborn as sns"
      ],
      "execution_count": null,
      "outputs": []
    },
    {
      "metadata": {
        "trusted": true,
        "id": "8JlIiNOGWpgN"
      },
      "cell_type": "code",
      "source": [
        "eve=pd.read_csv(\"/kaggle/input/120-years-of-olympic-history-athletes-and-results/athlete_events.csv\")"
      ],
      "execution_count": null,
      "outputs": []
    },
    {
      "metadata": {
        "trusted": true,
        "id": "P6XFAbJPWpgO"
      },
      "cell_type": "code",
      "source": [
        "eve.head()"
      ],
      "execution_count": null,
      "outputs": []
    },
    {
      "metadata": {
        "trusted": true,
        "id": "1jfZIYb1WpgP"
      },
      "cell_type": "code",
      "source": [
        "eve.tail()"
      ],
      "execution_count": null,
      "outputs": []
    },
    {
      "metadata": {
        "trusted": true,
        "id": "m2Q-6tPcWpgP"
      },
      "cell_type": "code",
      "source": [
        "eve.shape"
      ],
      "execution_count": null,
      "outputs": []
    },
    {
      "metadata": {
        "trusted": true,
        "id": "mDaeMJadWpgQ"
      },
      "cell_type": "code",
      "source": [
        "eve.isnull().sum()"
      ],
      "execution_count": null,
      "outputs": []
    },
    {
      "metadata": {
        "trusted": true,
        "id": "ENY1mtnqWpgQ"
      },
      "cell_type": "code",
      "source": [
        "eve.info()"
      ],
      "execution_count": null,
      "outputs": []
    },
    {
      "metadata": {
        "trusted": true,
        "id": "lSJ4o9yJWpgR"
      },
      "cell_type": "code",
      "source": [
        "eve = eve.drop_duplicates(keep='first')"
      ],
      "execution_count": null,
      "outputs": []
    },
    {
      "metadata": {
        "trusted": true,
        "id": "eoauoRekWpgR"
      },
      "cell_type": "code",
      "source": [
        "eve.shape"
      ],
      "execution_count": null,
      "outputs": []
    },
    {
      "metadata": {
        "trusted": true,
        "id": "W_LcICp8WpgS"
      },
      "cell_type": "code",
      "source": [
        "eve['Year'].max()"
      ],
      "execution_count": null,
      "outputs": []
    },
    {
      "metadata": {
        "trusted": true,
        "id": "3lMJnkVcWpgS"
      },
      "cell_type": "code",
      "source": [
        "eve['Year'].min()"
      ],
      "execution_count": null,
      "outputs": []
    },
    {
      "metadata": {
        "trusted": true,
        "id": "l3II1Zg6WpgS"
      },
      "cell_type": "code",
      "source": [
        "eve.describe()"
      ],
      "execution_count": null,
      "outputs": []
    },
    {
      "metadata": {
        "trusted": true,
        "id": "7UHZoOFxWpgS"
      },
      "cell_type": "code",
      "source": [
        "sns.pairplot(eve)"
      ],
      "execution_count": null,
      "outputs": []
    },
    {
      "metadata": {
        "trusted": true,
        "id": "D07Y3mS9WpgT"
      },
      "cell_type": "code",
      "source": [
        "# distribution plot with 10 bins\n",
        "tpl = tuple(eve['Height'])\n",
        "sns.distplot(tpl, bins=10)"
      ],
      "execution_count": null,
      "outputs": []
    },
    {
      "metadata": {
        "trusted": true,
        "id": "AUZ1rD3_WpgT"
      },
      "cell_type": "code",
      "source": [
        "# distribution plot with 10 bins\n",
        "tpl = tuple(eve['Weight'])\n",
        "sns.distplot(tpl, bins=10)"
      ],
      "execution_count": null,
      "outputs": []
    },
    {
      "metadata": {
        "trusted": true,
        "id": "yagyvRuEWpgT"
      },
      "cell_type": "code",
      "source": [
        "# distribution plot with 10 bins\n",
        "tpl = tuple(eve['Age'])\n",
        "sns.distplot(tpl, bins=10)"
      ],
      "execution_count": null,
      "outputs": []
    },
    {
      "metadata": {
        "trusted": true,
        "id": "EAe4EWwbWpgT"
      },
      "cell_type": "code",
      "source": [
        "# distribution plot with 10 bins\n",
        "tpl = tuple(eve['Year'])\n",
        "sns.distplot(tpl, bins=10)"
      ],
      "execution_count": null,
      "outputs": []
    },
    {
      "metadata": {
        "trusted": true,
        "id": "JURT8DrsWpgT"
      },
      "cell_type": "code",
      "source": [
        "eve['Age'].unique()"
      ],
      "execution_count": null,
      "outputs": []
    },
    {
      "metadata": {
        "trusted": true,
        "id": "2gkiIyumWpgT"
      },
      "cell_type": "code",
      "source": [
        "eve['Year'].unique()"
      ],
      "execution_count": null,
      "outputs": []
    },
    {
      "metadata": {
        "trusted": true,
        "id": "nVVafZ4WWpgU"
      },
      "cell_type": "code",
      "source": [
        "eve['Height'].unique()"
      ],
      "execution_count": null,
      "outputs": []
    },
    {
      "metadata": {
        "trusted": true,
        "id": "OUMcGWHiWpgU"
      },
      "cell_type": "code",
      "source": [
        "eve['Weight'].unique()"
      ],
      "execution_count": null,
      "outputs": []
    },
    {
      "metadata": {
        "trusted": true,
        "id": "hFx1DfrUWpgU"
      },
      "cell_type": "code",
      "source": [
        "eve['Team'].unique()"
      ],
      "execution_count": null,
      "outputs": []
    },
    {
      "metadata": {
        "trusted": true,
        "id": "bimb3oC5WpgU"
      },
      "cell_type": "code",
      "source": [
        "eve['NOC'].unique()"
      ],
      "execution_count": null,
      "outputs": []
    },
    {
      "metadata": {
        "trusted": true,
        "id": "sV6JmW3xWpgU"
      },
      "cell_type": "code",
      "source": [
        "eve['Games'].unique()"
      ],
      "execution_count": null,
      "outputs": []
    },
    {
      "metadata": {
        "trusted": true,
        "id": "GI6j8AB9WpgU"
      },
      "cell_type": "code",
      "source": [
        "eve['Season'].unique()"
      ],
      "execution_count": null,
      "outputs": []
    },
    {
      "metadata": {
        "trusted": true,
        "id": "ti8QpmnyWpgV"
      },
      "cell_type": "code",
      "source": [
        "eve['City'].unique()"
      ],
      "execution_count": null,
      "outputs": []
    },
    {
      "metadata": {
        "trusted": true,
        "id": "PUnlJnHNWpgV"
      },
      "cell_type": "code",
      "source": [
        "eve['Sport'].unique()"
      ],
      "execution_count": null,
      "outputs": []
    },
    {
      "metadata": {
        "trusted": true,
        "id": "Fg-0ARgYWpgV"
      },
      "cell_type": "code",
      "source": [
        "eve['Sex'].unique()"
      ],
      "execution_count": null,
      "outputs": []
    },
    {
      "metadata": {
        "trusted": true,
        "id": "UG2FXyxPWpgV"
      },
      "cell_type": "code",
      "source": [
        "eve['Medal'].unique()"
      ],
      "execution_count": null,
      "outputs": []
    },
    {
      "metadata": {
        "trusted": true,
        "id": "trEk8EGmWpgV"
      },
      "cell_type": "code",
      "source": [
        "FemaleAthletes = eve[(eve.Sex == 'F') & (eve.Height < 150) & (eve.Age<35)]\n",
        "FemaleAthletes.shape"
      ],
      "execution_count": null,
      "outputs": []
    },
    {
      "metadata": {
        "trusted": true,
        "id": "IrKyhcXkWpgW"
      },
      "cell_type": "code",
      "source": [
        "sns.set(style=\"ticks\")\n",
        "plt.figure(figsize=(10,5))\n",
        "sns.countplot(x='Age', data=FemaleAthletes)\n",
        "plt.title('FemaleAthletes with Age(<35) and Height(<150)')"
      ],
      "execution_count": null,
      "outputs": []
    },
    {
      "metadata": {
        "trusted": true,
        "id": "9FWkOr6mWpgW"
      },
      "cell_type": "code",
      "source": [
        "AthletesInOlympics = eve[(eve.Year == 2012) & (eve.Age>35)]\n",
        "AthletesInOlympics.shape"
      ],
      "execution_count": null,
      "outputs": []
    },
    {
      "metadata": {
        "trusted": true,
        "id": "apZTmyh0WpgW"
      },
      "cell_type": "code",
      "source": [
        "plt.figure(figsize=(10, 5))\n",
        "sns.boxplot( 'Year','Age', data=AthletesInOlympics, palette='Dark2')\n",
        "plt.title('Variation of Athletes in the Year 2012 with Age(>35)')"
      ],
      "execution_count": null,
      "outputs": []
    },
    {
      "metadata": {
        "trusted": true,
        "id": "AgEKKuUBWpgX"
      },
      "cell_type": "code",
      "source": [
        "maleAthlete = eve[(eve.Age>30) & (eve.Age<50) & (eve.Sex=='M')&(eve.City=='London')]\n",
        "maleAthlete.shape"
      ],
      "execution_count": null,
      "outputs": []
    },
    {
      "metadata": {
        "trusted": true,
        "id": "a7GOEhhfWpga"
      },
      "cell_type": "code",
      "source": [
        "sns.set(style=\"darkgrid\")\n",
        "sns.countplot(y=\"Age\",hue=\"City\",data=maleAthlete,palette=\"CMRmap\",)"
      ],
      "execution_count": null,
      "outputs": []
    },
    {
      "metadata": {
        "trusted": true,
        "id": "PaIe5LQ9Wpga"
      },
      "cell_type": "code",
      "source": [
        "noOfAthletes=eve[(eve.City=='Paris')&(eve.Medal=='Gold')]\n",
        "noOfAthletes.shape"
      ],
      "execution_count": null,
      "outputs": []
    },
    {
      "metadata": {
        "trusted": true,
        "id": "6tstlTIoWpga"
      },
      "cell_type": "code",
      "source": [
        "sns.boxplot(x='Year',y='Age', data=noOfAthletes, palette='cool')"
      ],
      "execution_count": null,
      "outputs": []
    },
    {
      "metadata": {
        "trusted": true,
        "id": "chMiMU8hWpgb"
      },
      "cell_type": "code",
      "source": [
        "gamesInSeoul=eve[(eve.Sport=='Judo')&(eve.City=='Seoul')&(eve.Season=='Summer')]\n",
        "gamesInSeoul.shape"
      ],
      "execution_count": null,
      "outputs": []
    },
    {
      "metadata": {
        "trusted": true,
        "id": "uCCy6OwyWpgi"
      },
      "cell_type": "code",
      "source": [
        "plt.figure(figsize=(20,5))\n",
        "sns.barplot('Age', 'Weight', data=gamesInSeoul)\n",
        "plt.title('Judo Sport played during Summer in Seoul')"
      ],
      "execution_count": null,
      "outputs": []
    },
    {
      "metadata": {
        "trusted": true,
        "id": "H5ziIVMEWpgi"
      },
      "cell_type": "code",
      "source": [
        "sportOfWrestling = eve[(eve.Sport == 'Wrestling') & (eve.Year<1950)]\n",
        "sportOfWrestling.shape"
      ],
      "execution_count": null,
      "outputs": []
    },
    {
      "metadata": {
        "trusted": true,
        "id": "Conj4kM_Wpgi"
      },
      "cell_type": "code",
      "source": [
        "sportOfWrestling = eve[(eve.Sport == 'Wrestling') & (eve.Year<1950)]\n",
        "plt.figure(figsize=(20, 10))\n",
        "sns.pointplot('Year', 'Height', data=sportOfWrestling, palette='cubehelix')\n",
        "plt.title('Heights of Athletes in Wrestling before Year 1950')"
      ],
      "execution_count": null,
      "outputs": []
    },
    {
      "metadata": {
        "trusted": true,
        "id": "e_8fiMbdWpgi"
      },
      "cell_type": "code",
      "source": [
        "teamMedal=eve[(eve.Medal=='Gold')&(eve.Sex=='M')&(eve.Sport=='Ice Hockey')]\n",
        "teamMedal.shape"
      ],
      "execution_count": null,
      "outputs": []
    },
    {
      "metadata": {
        "trusted": true,
        "id": "jRWkXizwWpgj"
      },
      "cell_type": "code",
      "source": [
        "plt.figure(figsize=(20, 10))\n",
        "sns.pointplot('Year', 'Weight', data=teamMedal)\n",
        "plt.title('Weights of Men who won Gold Medal in Sport Ice Hockey')"
      ],
      "execution_count": null,
      "outputs": []
    },
    {
      "metadata": {
        "trusted": true,
        "id": "Q81EX7RQWpgj"
      },
      "cell_type": "code",
      "source": [
        "teamFinland=eve[(eve.Team=='Finland')&(eve.Medal!='Gold')&(eve.City=='Beijing')]\n",
        "teamFinland.shape"
      ],
      "execution_count": null,
      "outputs": []
    },
    {
      "metadata": {
        "trusted": true,
        "id": "VBwLc_wzWpgl"
      },
      "cell_type": "code",
      "source": [
        "sns.lmplot(x=\"Age\", y=\"Year\", hue=\"Medal\", col=\"Medal\",data=teamFinland, height=6, aspect=.7, x_jitter=.1)"
      ],
      "execution_count": null,
      "outputs": []
    },
    {
      "metadata": {
        "trusted": true,
        "id": "Kv9rEqz7Wpgl"
      },
      "cell_type": "code",
      "source": [
        "saltlakeSport=eve[['Sport']][eve.City=='Salt Lake City']\n",
        "saltlakeSport.shape"
      ],
      "execution_count": null,
      "outputs": []
    },
    {
      "metadata": {
        "trusted": true,
        "id": "6Rm4wHZvWpgl"
      },
      "cell_type": "code",
      "source": [
        "gymnasticAthletes = eve[['Year']][(eve.Year>1990)&(eve.Year<2000)&(eve.Sport=='Gymnastics')]\n",
        "gymnasticAthletes.shape"
      ],
      "execution_count": null,
      "outputs": []
    },
    {
      "metadata": {
        "trusted": true,
        "id": "K6OnBYBmWpgm"
      },
      "cell_type": "code",
      "source": [
        "tpl = tuple(gymnasticAthletes['Year'])\n",
        "sns.distplot(tpl, bins=1)\n",
        "# do not display kernal density estimate (kde) line. display only histogram\n",
        "sns.distplot(tpl, kde=False, bins=range(3,10,10))"
      ],
      "execution_count": null,
      "outputs": []
    },
    {
      "metadata": {
        "trusted": true,
        "id": "Wa8zs8q9Wpgm"
      },
      "cell_type": "code",
      "source": [
        "part = eve.groupby('Year')['Sex'].value_counts()\n",
        "plt.figure(figsize=(20, 10))\n",
        "part.loc[:,'M'].plot()\n",
        "plt.title('Variation of Male Athletes over time')"
      ],
      "execution_count": null,
      "outputs": []
    },
    {
      "metadata": {
        "trusted": true,
        "id": "wfIMu8PaWpgm"
      },
      "cell_type": "code",
      "source": [
        "sns.pairplot(eve, hue='Season', palette='summer', markers= ['d','s'],vars=['Year','Age'])"
      ],
      "execution_count": null,
      "outputs": []
    },
    {
      "metadata": {
        "trusted": true,
        "id": "9AHEMQcNWpgm"
      },
      "cell_type": "code",
      "source": [
        "sns.pairplot(eve, palette='hot', hue='Sex',vars=['Year', 'Age'],markers= ['o','d'])"
      ],
      "execution_count": null,
      "outputs": []
    },
    {
      "metadata": {
        "trusted": true,
        "id": "8aEJb41sWpgn"
      },
      "cell_type": "code",
      "source": [
        "eve['Event'].unique()"
      ],
      "execution_count": null,
      "outputs": []
    }
  ],
  "metadata": {
    "kernelspec": {
      "language": "python",
      "display_name": "Python 3",
      "name": "python3"
    },
    "language_info": {
      "pygments_lexer": "ipython3",
      "nbconvert_exporter": "python",
      "version": "3.6.4",
      "file_extension": ".py",
      "codemirror_mode": {
        "name": "ipython",
        "version": 3
      },
      "name": "python",
      "mimetype": "text/x-python"
    },
    "colab": {
      "provenance": [],
      "include_colab_link": true
    }
  },
  "nbformat": 4,
  "nbformat_minor": 0
}