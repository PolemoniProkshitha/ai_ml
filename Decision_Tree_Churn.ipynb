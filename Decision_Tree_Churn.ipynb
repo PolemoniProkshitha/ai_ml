{
  "metadata": {
    "kernelspec": {
      "language": "python",
      "display_name": "Python 3",
      "name": "python3"
    },
    "language_info": {
      "name": "python",
      "version": "3.10.13",
      "mimetype": "text/x-python",
      "codemirror_mode": {
        "name": "ipython",
        "version": 3
      },
      "pygments_lexer": "ipython3",
      "nbconvert_exporter": "python",
      "file_extension": ".py"
    },
    "kaggle": {
      "accelerator": "none",
      "dataSources": [
        {
          "sourceId": 18858,
          "sourceType": "datasetVersion",
          "datasetId": 13996
        }
      ],
      "dockerImageVersionId": 30746,
      "isInternetEnabled": true,
      "language": "python",
      "sourceType": "notebook",
      "isGpuEnabled": false
    },
    "colab": {
      "provenance": [],
      "include_colab_link": true
    }
  },
  "nbformat_minor": 0,
  "nbformat": 4,
  "cells": [
    {
      "cell_type": "markdown",
      "metadata": {
        "id": "view-in-github",
        "colab_type": "text"
      },
      "source": [
        "<a href=\"https://colab.research.google.com/github/PolemoniProkshitha/genai_practice/blob/main/Decision_Tree_Churn.ipynb\" target=\"_parent\"><img src=\"https://colab.research.google.com/assets/colab-badge.svg\" alt=\"Open In Colab\"/></a>"
      ]
    },
    {
      "cell_type": "code",
      "source": [
        "# This Python 3 environment comes with many helpful analytics libraries installed\n",
        "# It is defined by the kaggle/python Docker image: https://github.com/kaggle/docker-python\n",
        "# For example, here's several helpful packages to load\n",
        "\n",
        "import numpy as np # linear algebra\n",
        "import pandas as pd # data processing, CSV file I/O (e.g. pd.read_csv)\n",
        "\n",
        "# Input data files are available in the read-only \"../input/\" directory\n",
        "# For example, running this (by clicking run or pressing Shift+Enter) will list all files under the input directory\n",
        "\n",
        "import os\n",
        "for dirname, _, filenames in os.walk('/kaggle/input'):\n",
        "    for filename in filenames:\n",
        "        print(os.path.join(dirname, filename))\n",
        "\n",
        "# You can write up to 20GB to the current directory (/kaggle/working/) that gets preserved as output when you create a version using \"Save & Run All\"\n",
        "# You can also write temporary files to /kaggle/temp/, but they won't be saved outside of the current session"
      ],
      "metadata": {
        "_uuid": "8f2839f25d086af736a60e9eeb907d3b93b6e0e5",
        "_cell_guid": "b1076dfc-b9ad-4769-8c92-a6c4dae69d19",
        "trusted": true,
        "id": "Vb7yMstJV2dZ"
      },
      "execution_count": null,
      "outputs": []
    },
    {
      "cell_type": "code",
      "source": [
        "import pandas as pd\n",
        "\n",
        "# Load the dataset\n",
        "df = pd.read_csv('/kaggle/input/telco-customer-churn/WA_Fn-UseC_-Telco-Customer-Churn.csv')\n",
        "\n",
        "# Display the first few rows\n",
        "df.head()\n"
      ],
      "metadata": {
        "execution": {
          "iopub.status.busy": "2024-08-08T00:57:35.32375Z",
          "iopub.execute_input": "2024-08-08T00:57:35.324502Z",
          "iopub.status.idle": "2024-08-08T00:57:35.427675Z",
          "shell.execute_reply.started": "2024-08-08T00:57:35.324464Z",
          "shell.execute_reply": "2024-08-08T00:57:35.42663Z"
        },
        "trusted": true,
        "id": "L_g5TW4HV2db"
      },
      "execution_count": null,
      "outputs": []
    },
    {
      "cell_type": "code",
      "source": [
        "# Check for missing values\n",
        "print(df.isnull().sum())\n",
        "\n",
        "# Basic statistics\n",
        "print(df.describe())\n",
        "\n",
        "# Distribution of the target variable (Churn)\n",
        "import seaborn as sns\n",
        "import matplotlib.pyplot as plt\n",
        "\n",
        "sns.countplot(x='Churn', data=df)\n",
        "plt.show()\n"
      ],
      "metadata": {
        "execution": {
          "iopub.status.busy": "2024-08-08T00:57:44.299197Z",
          "iopub.execute_input": "2024-08-08T00:57:44.300124Z",
          "iopub.status.idle": "2024-08-08T00:57:45.283895Z",
          "shell.execute_reply.started": "2024-08-08T00:57:44.300086Z",
          "shell.execute_reply": "2024-08-08T00:57:45.282804Z"
        },
        "trusted": true,
        "id": "KkGKpVNJV2dc"
      },
      "execution_count": null,
      "outputs": []
    },
    {
      "cell_type": "code",
      "source": [
        "# Handling missing values\n",
        "df = df.dropna()\n",
        "\n",
        "# Convert categorical variables to numeric using one-hot encoding\n",
        "df = pd.get_dummies(df, drop_first=True)\n",
        "\n",
        "# Example for label encoding if needed\n",
        "# from sklearn.preprocessing import LabelEncoder\n",
        "# le = LabelEncoder()\n",
        "# df['Churn'] = le.fit_transform(df['Churn'])\n",
        "\n",
        "# Display the transformed data\n",
        "df.head()\n"
      ],
      "metadata": {
        "execution": {
          "iopub.status.busy": "2024-08-08T01:00:16.98086Z",
          "iopub.execute_input": "2024-08-08T01:00:16.981726Z",
          "iopub.status.idle": "2024-08-08T01:00:17.263499Z",
          "shell.execute_reply.started": "2024-08-08T01:00:16.981688Z",
          "shell.execute_reply": "2024-08-08T01:00:17.26243Z"
        },
        "trusted": true,
        "id": "MSMbTAHVV2dd"
      },
      "execution_count": null,
      "outputs": []
    },
    {
      "cell_type": "code",
      "source": [
        "from sklearn.model_selection import train_test_split\n",
        "\n",
        "# Define features and target variable\n",
        "X = df.drop('Churn_Yes', axis=1)\n",
        "y = df['Churn_Yes']\n",
        "\n",
        "# Split the data into training and testing sets\n",
        "X_train, X_test, y_train, y_test = train_test_split(X, y, test_size=0.3, random_state=42)\n"
      ],
      "metadata": {
        "execution": {
          "iopub.status.busy": "2024-08-08T01:01:20.853406Z",
          "iopub.execute_input": "2024-08-08T01:01:20.853814Z",
          "iopub.status.idle": "2024-08-08T01:01:21.050281Z",
          "shell.execute_reply.started": "2024-08-08T01:01:20.853783Z",
          "shell.execute_reply": "2024-08-08T01:01:21.049044Z"
        },
        "trusted": true,
        "id": "BBuvYiCcV2de"
      },
      "execution_count": null,
      "outputs": []
    },
    {
      "cell_type": "code",
      "source": [
        "from sklearn.tree import DecisionTreeClassifier\n",
        "from sklearn.metrics import accuracy_score, classification_report, confusion_matrix\n",
        "\n",
        "# Initialize the model\n",
        "model = DecisionTreeClassifier(random_state=42)\n",
        "\n",
        "# Train the model\n",
        "model.fit(X_train, y_train)\n",
        "\n",
        "# Make predictions\n",
        "y_pred = model.predict(X_test)\n",
        "\n",
        "# Evaluate the model\n",
        "print(\"Accuracy:\", accuracy_score(y_test, y_pred))\n",
        "print(\"\\nClassification Report:\\n\", classification_report(y_test, y_pred))\n",
        "print(\"\\nConfusion Matrix:\\n\", confusion_matrix(y_test, y_pred))\n",
        "\n"
      ],
      "metadata": {
        "execution": {
          "iopub.status.busy": "2024-08-08T01:01:52.140611Z",
          "iopub.execute_input": "2024-08-08T01:01:52.141733Z",
          "iopub.status.idle": "2024-08-08T01:01:54.153672Z",
          "shell.execute_reply.started": "2024-08-08T01:01:52.141694Z",
          "shell.execute_reply": "2024-08-08T01:01:54.152389Z"
        },
        "trusted": true,
        "id": "RrCqui0dV2df"
      },
      "execution_count": null,
      "outputs": []
    },
    {
      "cell_type": "code",
      "source": [
        "from sklearn.metrics import roc_auc_score, roc_curve\n",
        "\n",
        "# ROC-AUC score\n",
        "roc_auc = roc_auc_score(y_test, model.predict_proba(X_test)[:,1])\n",
        "print(\"ROC-AUC Score:\", roc_auc)\n",
        "\n",
        "# Plotting the ROC curve\n",
        "fpr, tpr, _ = roc_curve(y_test, model.predict_proba(X_test)[:,1])\n",
        "plt.plot(fpr, tpr, label=f\"Decision Tree (AUC = {roc_auc:.2f})\")\n",
        "plt.xlabel('False Positive Rate')\n",
        "plt.ylabel('True Positive Rate')\n",
        "plt.title('ROC Curve')\n",
        "plt.legend()\n",
        "plt.show()\n"
      ],
      "metadata": {
        "execution": {
          "iopub.status.busy": "2024-08-08T01:02:08.933486Z",
          "iopub.execute_input": "2024-08-08T01:02:08.933897Z",
          "iopub.status.idle": "2024-08-08T01:02:09.564835Z",
          "shell.execute_reply.started": "2024-08-08T01:02:08.933868Z",
          "shell.execute_reply": "2024-08-08T01:02:09.563531Z"
        },
        "trusted": true,
        "id": "dxEhfTTiV2dg"
      },
      "execution_count": null,
      "outputs": []
    },
    {
      "cell_type": "code",
      "source": [
        "import seaborn as sns\n",
        "\n",
        "# Calculate the correlation matrix\n",
        "corr_matrix = df.corr()\n",
        "\n",
        "# Plot the heatmap\n",
        "plt.figure(figsize=(12, 8))\n",
        "sns.heatmap(corr_matrix, annot=True, fmt='.2f', cmap='coolwarm', center=0)\n",
        "plt.title('Correlation Matrix')\n",
        "plt.show()\n",
        "\n"
      ],
      "metadata": {
        "execution": {
          "iopub.status.busy": "2024-08-08T01:10:10.996316Z",
          "iopub.execute_input": "2024-08-08T01:10:10.997592Z"
        },
        "trusted": true,
        "id": "iJlLLkC4V2dh"
      },
      "execution_count": null,
      "outputs": []
    }
  ]
}