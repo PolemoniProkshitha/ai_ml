{
  "metadata": {
    "kernelspec": {
      "language": "python",
      "display_name": "Python 3",
      "name": "python3"
    },
    "language_info": {
      "name": "python",
      "version": "3.10.14",
      "mimetype": "text/x-python",
      "codemirror_mode": {
        "name": "ipython",
        "version": 3
      },
      "pygments_lexer": "ipython3",
      "nbconvert_exporter": "python",
      "file_extension": ".py"
    },
    "kaggle": {
      "accelerator": "none",
      "dataSources": [
        {
          "sourceId": 73278,
          "databundleVersionId": 8121328,
          "sourceType": "competition"
        }
      ],
      "dockerImageVersionId": 30761,
      "isInternetEnabled": true,
      "language": "python",
      "sourceType": "notebook",
      "isGpuEnabled": false
    },
    "colab": {
      "provenance": [],
      "include_colab_link": true
    }
  },
  "nbformat_minor": 0,
  "nbformat": 4,
  "cells": [
    {
      "cell_type": "markdown",
      "metadata": {
        "id": "view-in-github",
        "colab_type": "text"
      },
      "source": [
        "<a href=\"https://colab.research.google.com/github/PolemoniProkshitha/ai_ml/blob/main/Logistic_Regression_Flood_Prediction.ipynb\" target=\"_parent\"><img src=\"https://colab.research.google.com/assets/colab-badge.svg\" alt=\"Open In Colab\"/></a>"
      ]
    },
    {
      "cell_type": "markdown",
      "source": [
        "Import libraries"
      ],
      "metadata": {
        "id": "Jz28bOaYxAxp"
      }
    },
    {
      "cell_type": "code",
      "source": [
        "# This Python 3 environment comes with many helpful analytics libraries installed\n",
        "# It is defined by the kaggle/python Docker image: https://github.com/kaggle/docker-python\n",
        "# For example, here's several helpful packages to load\n",
        "\n",
        "import numpy as np # linear algebra\n",
        "import pandas as pd # data processing, CSV file I/O (e.g. pd.read_csv)\n",
        "\n",
        "# Input data files are available in the read-only \"../input/\" directory\n",
        "# For example, running this (by clicking run or pressing Shift+Enter) will list all files under the input directory\n",
        "\n",
        "import os\n",
        "for dirname, _, filenames in os.walk('/kaggle/input'):\n",
        "    for filename in filenames:\n",
        "        print(os.path.join(dirname, filename))\n",
        "\n",
        "# You can write up to 20GB to the current directory (/kaggle/working/) that gets preserved as output when you create a version using \"Save & Run All\"\n",
        "# You can also write temporary files to /kaggle/temp/, but they won't be saved outside of the current session"
      ],
      "metadata": {
        "_uuid": "8f2839f25d086af736a60e9eeb907d3b93b6e0e5",
        "_cell_guid": "b1076dfc-b9ad-4769-8c92-a6c4dae69d19",
        "execution": {
          "iopub.status.busy": "2024-09-05T18:56:45.497408Z",
          "iopub.execute_input": "2024-09-05T18:56:45.497869Z",
          "iopub.status.idle": "2024-09-05T18:56:45.996396Z",
          "shell.execute_reply.started": "2024-09-05T18:56:45.497815Z",
          "shell.execute_reply": "2024-09-05T18:56:45.99494Z"
        },
        "trusted": true,
        "id": "L56SE-lUxAxr"
      },
      "execution_count": null,
      "outputs": []
    },
    {
      "cell_type": "code",
      "source": [
        "import matplotlib.pyplot as plt       # matplotlib.pyplot plots data\n",
        "%matplotlib inline\n",
        "import seaborn as sns"
      ],
      "metadata": {
        "execution": {
          "iopub.status.busy": "2024-09-05T18:57:33.085067Z",
          "iopub.execute_input": "2024-09-05T18:57:33.085649Z",
          "iopub.status.idle": "2024-09-05T18:57:34.057318Z",
          "shell.execute_reply.started": "2024-09-05T18:57:33.085605Z",
          "shell.execute_reply": "2024-09-05T18:57:34.055705Z"
        },
        "trusted": true,
        "id": "L0lGX0VwxAxr"
      },
      "execution_count": null,
      "outputs": []
    },
    {
      "cell_type": "markdown",
      "source": [
        "Basic Exploratory Data Analysis (EDA)"
      ],
      "metadata": {
        "id": "zo7jSJ20xAxs"
      }
    },
    {
      "cell_type": "markdown",
      "source": [
        "Load and review data"
      ],
      "metadata": {
        "id": "mpiWdMgYxAxt"
      }
    },
    {
      "cell_type": "code",
      "source": [
        "train_fdata = pd.read_csv(\"/kaggle/input/playground-series-s4e5/train.csv\")"
      ],
      "metadata": {
        "execution": {
          "iopub.status.busy": "2024-09-05T19:26:28.369989Z",
          "iopub.execute_input": "2024-09-05T19:26:28.370477Z",
          "iopub.status.idle": "2024-09-05T19:26:30.399634Z",
          "shell.execute_reply.started": "2024-09-05T19:26:28.370433Z",
          "shell.execute_reply": "2024-09-05T19:26:30.398397Z"
        },
        "trusted": true,
        "id": "o41ggUnOxAxt"
      },
      "execution_count": null,
      "outputs": []
    },
    {
      "cell_type": "code",
      "source": [
        "test_fdata = pd.read_csv('/kaggle/input/playground-series-s4e5/test.csv')"
      ],
      "metadata": {
        "execution": {
          "iopub.status.busy": "2024-09-05T19:32:36.893127Z",
          "iopub.execute_input": "2024-09-05T19:32:36.893616Z",
          "iopub.status.idle": "2024-09-05T19:32:38.388631Z",
          "shell.execute_reply.started": "2024-09-05T19:32:36.893555Z",
          "shell.execute_reply": "2024-09-05T19:32:38.387467Z"
        },
        "trusted": true,
        "id": "ISPAy7uaxAxu"
      },
      "execution_count": null,
      "outputs": []
    },
    {
      "cell_type": "code",
      "source": [
        "train_fdata.shape # Check number of columns and rows in data frame"
      ],
      "metadata": {
        "execution": {
          "iopub.status.busy": "2024-09-05T19:26:52.394607Z",
          "iopub.execute_input": "2024-09-05T19:26:52.395496Z",
          "iopub.status.idle": "2024-09-05T19:26:52.402349Z",
          "shell.execute_reply.started": "2024-09-05T19:26:52.395444Z",
          "shell.execute_reply": "2024-09-05T19:26:52.401167Z"
        },
        "trusted": true,
        "id": "dphK32KxxAxu"
      },
      "execution_count": null,
      "outputs": []
    },
    {
      "cell_type": "code",
      "source": [
        "train_fdata.head() # To check first 5 rows of data set"
      ],
      "metadata": {
        "execution": {
          "iopub.status.busy": "2024-09-05T19:26:57.202526Z",
          "iopub.execute_input": "2024-09-05T19:26:57.202977Z",
          "iopub.status.idle": "2024-09-05T19:26:57.225872Z",
          "shell.execute_reply.started": "2024-09-05T19:26:57.202935Z",
          "shell.execute_reply": "2024-09-05T19:26:57.224623Z"
        },
        "trusted": true,
        "id": "pERVUiR-xAxv"
      },
      "execution_count": null,
      "outputs": []
    },
    {
      "cell_type": "code",
      "source": [
        "# Check for null values\n",
        "train_fdata.isnull().sum()"
      ],
      "metadata": {
        "execution": {
          "iopub.status.busy": "2024-09-05T19:27:02.183319Z",
          "iopub.execute_input": "2024-09-05T19:27:02.183786Z",
          "iopub.status.idle": "2024-09-05T19:27:02.216703Z",
          "shell.execute_reply.started": "2024-09-05T19:27:02.183742Z",
          "shell.execute_reply": "2024-09-05T19:27:02.215364Z"
        },
        "trusted": true,
        "id": "FcMbmyyWxAxv"
      },
      "execution_count": null,
      "outputs": []
    },
    {
      "cell_type": "code",
      "source": [
        "train_fdata.info()"
      ],
      "metadata": {
        "execution": {
          "iopub.status.busy": "2024-09-05T19:27:06.918287Z",
          "iopub.execute_input": "2024-09-05T19:27:06.918739Z",
          "iopub.status.idle": "2024-09-05T19:27:06.962079Z",
          "shell.execute_reply.started": "2024-09-05T19:27:06.918695Z",
          "shell.execute_reply": "2024-09-05T19:27:06.960886Z"
        },
        "trusted": true,
        "id": "VZ4QNHxxxAxw"
      },
      "execution_count": null,
      "outputs": []
    },
    {
      "cell_type": "code",
      "source": [
        "# Summary statistics\n",
        "train_fdata.describe()"
      ],
      "metadata": {
        "execution": {
          "iopub.status.busy": "2024-09-05T19:27:12.258132Z",
          "iopub.execute_input": "2024-09-05T19:27:12.258551Z",
          "iopub.status.idle": "2024-09-05T19:27:13.14685Z",
          "shell.execute_reply.started": "2024-09-05T19:27:12.258511Z",
          "shell.execute_reply": "2024-09-05T19:27:13.145635Z"
        },
        "trusted": true,
        "id": "M6eCUywlxAxw"
      },
      "execution_count": null,
      "outputs": []
    },
    {
      "cell_type": "code",
      "source": [
        "train_fdata.corr() # It will show correlation matrix"
      ],
      "metadata": {
        "execution": {
          "iopub.status.busy": "2024-09-05T19:27:16.274631Z",
          "iopub.execute_input": "2024-09-05T19:27:16.275088Z",
          "iopub.status.idle": "2024-09-05T19:27:17.923251Z",
          "shell.execute_reply.started": "2024-09-05T19:27:16.275043Z",
          "shell.execute_reply": "2024-09-05T19:27:17.922115Z"
        },
        "trusted": true,
        "id": "2Uzv9YIDxAxw"
      },
      "execution_count": null,
      "outputs": []
    },
    {
      "cell_type": "markdown",
      "source": [
        "Increase the size of the heatmap and adjust the font size of the annotations to make the correlation values clearer.\n",
        "\n",
        "fmt='.2f': Limits the decimal places to two, reducing visual clutter.\n",
        "\n",
        "annot_kws={\"size\": 10}: Adjusts the annotation font size.\n",
        "\n",
        "plt.xticks(rotation=45, ha='right'): Rotates the x-axis labels for better readability."
      ],
      "metadata": {
        "id": "Kwqfkm53xAxw"
      }
    },
    {
      "cell_type": "code",
      "source": [
        "# Correlation heatmap with larger figure size and bigger font size for annotations\n",
        "plt.figure(figsize=(16,12))\n",
        "sns.heatmap(train_fdata.corr(), annot=True, fmt='.2f', cmap='coolwarm', annot_kws={\"size\": 10})\n",
        "plt.title('Correlation Heatmap - Train Data', fontsize=16)\n",
        "plt.xticks(rotation=45, ha='right', fontsize=12)\n",
        "plt.yticks(fontsize=12)\n",
        "plt.show()\n"
      ],
      "metadata": {
        "execution": {
          "iopub.status.busy": "2024-09-05T19:27:38.035738Z",
          "iopub.execute_input": "2024-09-05T19:27:38.036181Z",
          "iopub.status.idle": "2024-09-05T19:27:41.358918Z",
          "shell.execute_reply.started": "2024-09-05T19:27:38.03614Z",
          "shell.execute_reply": "2024-09-05T19:27:41.357609Z"
        },
        "trusted": true,
        "id": "dQ_lf8BSxAxx"
      },
      "execution_count": null,
      "outputs": []
    },
    {
      "cell_type": "markdown",
      "source": [
        "## Logistic Regression Model"
      ],
      "metadata": {
        "id": "w5J2lyiMxAxx"
      }
    },
    {
      "cell_type": "markdown",
      "source": [
        "Prepare the Training Data\n",
        "- Separate Features and Target (Training Data)\n",
        "\n",
        "Separate your features (independent variables) from the target (FloodProbability)."
      ],
      "metadata": {
        "id": "MQwOMuNexAxx"
      }
    },
    {
      "cell_type": "code",
      "source": [
        "# Separate features (X) and target (y)\n",
        "X_train = train_fdata.drop(columns=['id', 'FloodProbability'])\n",
        "y_train = train_fdata['FloodProbability']"
      ],
      "metadata": {
        "execution": {
          "iopub.status.busy": "2024-09-05T19:29:21.254519Z",
          "iopub.execute_input": "2024-09-05T19:29:21.254954Z",
          "iopub.status.idle": "2024-09-05T19:29:21.333519Z",
          "shell.execute_reply.started": "2024-09-05T19:29:21.254912Z",
          "shell.execute_reply": "2024-09-05T19:29:21.332436Z"
        },
        "trusted": true,
        "id": "q3sRUbE1xAxx"
      },
      "execution_count": null,
      "outputs": []
    },
    {
      "cell_type": "markdown",
      "source": [
        "Prepare the Test Data\n",
        "\n",
        "Use the same feature columns in the test dataset, but we don’t have the target (FloodProbability) column in the test set."
      ],
      "metadata": {
        "id": "kQJVOLwExAxx"
      }
    },
    {
      "cell_type": "code",
      "source": [
        "# Prepare the test data (drop 'id' column)\n",
        "X_test = test_fdata.drop(columns=['id'])"
      ],
      "metadata": {
        "execution": {
          "iopub.status.busy": "2024-09-05T19:33:15.488683Z",
          "iopub.execute_input": "2024-09-05T19:33:15.489119Z",
          "iopub.status.idle": "2024-09-05T19:33:15.537194Z",
          "shell.execute_reply.started": "2024-09-05T19:33:15.489075Z",
          "shell.execute_reply": "2024-09-05T19:33:15.536124Z"
        },
        "trusted": true,
        "id": "7hhIGgDWxAxy"
      },
      "execution_count": null,
      "outputs": []
    },
    {
      "cell_type": "markdown",
      "source": [
        "Train the Logistic Regression Model\n",
        "- Now, fit the logistic regression model using the training dataset."
      ],
      "metadata": {
        "id": "42HemEfIxAxy"
      }
    },
    {
      "cell_type": "code",
      "source": [
        "from sklearn.linear_model import LogisticRegression"
      ],
      "metadata": {
        "execution": {
          "iopub.status.busy": "2024-09-05T19:38:34.907675Z",
          "iopub.execute_input": "2024-09-05T19:38:34.908109Z",
          "iopub.status.idle": "2024-09-05T19:38:34.91322Z",
          "shell.execute_reply.started": "2024-09-05T19:38:34.908064Z",
          "shell.execute_reply": "2024-09-05T19:38:34.912088Z"
        },
        "trusted": true,
        "id": "fjflP_YdxAxy"
      },
      "execution_count": null,
      "outputs": []
    },
    {
      "cell_type": "markdown",
      "source": [
        "The target variable y_train for logistic regression should be binary (or categorical), but it is continuous (floating-point values).\n",
        "- Logistic regression is used for classification tasks, not for continuous target variables.\n",
        "\n",
        "To fix this, we need to ensure that y_train contains only binary or categorical values (e.g., 0 or 1 for binary classification).\n",
        "\n",
        "In this case, the target column (FloodProbability) might be a continuous probability value. Hence, we convert it into binary values (e.g., 0 for non-flood, 1 for flood) using a threshold."
      ],
      "metadata": {
        "id": "-GT_Fk9LxAxy"
      }
    },
    {
      "cell_type": "markdown",
      "source": [
        "Convert Continuous Target to Binary\n",
        "- We can decide on a threshold for the FloodProbability to classify it as 0 or 1.\n",
        "For example, you could use a threshold of 0.5 (or another suitable threshold based on your data)."
      ],
      "metadata": {
        "id": "XFYzuDA_xAxz"
      }
    },
    {
      "cell_type": "code",
      "source": [
        "threshold = 0.5\n",
        "y_train_binary = (y_train >= threshold).astype(int)\n",
        "\n",
        "# Convert continuous target y_train into binary (0 or 1) based on the FloodProbability threshold."
      ],
      "metadata": {
        "execution": {
          "iopub.status.busy": "2024-09-05T19:41:07.312645Z",
          "iopub.execute_input": "2024-09-05T19:41:07.31311Z",
          "iopub.status.idle": "2024-09-05T19:41:07.320875Z",
          "shell.execute_reply.started": "2024-09-05T19:41:07.313067Z",
          "shell.execute_reply": "2024-09-05T19:41:07.319673Z"
        },
        "trusted": true,
        "id": "eROkkk4QxAxz"
      },
      "execution_count": null,
      "outputs": []
    },
    {
      "cell_type": "code",
      "source": [
        "# Initialize and train the model\n",
        "model = LogisticRegression(max_iter=1000)\n",
        "model.fit(X_train, y_train_binary)"
      ],
      "metadata": {
        "execution": {
          "iopub.status.busy": "2024-09-05T19:55:46.128379Z",
          "iopub.execute_input": "2024-09-05T19:55:46.12883Z",
          "iopub.status.idle": "2024-09-05T19:55:51.788641Z",
          "shell.execute_reply.started": "2024-09-05T19:55:46.128789Z",
          "shell.execute_reply": "2024-09-05T19:55:51.787216Z"
        },
        "trusted": true,
        "id": "vKuHUWYVxAxz"
      },
      "execution_count": null,
      "outputs": []
    },
    {
      "cell_type": "markdown",
      "source": [
        "Predict on Test Data\n",
        "- When making predictions on the test data, the output will be probabilities, and you can apply the same threshold to classify them into flood/non-flood."
      ],
      "metadata": {
        "id": "q9PfkOFoxAxz"
      }
    },
    {
      "cell_type": "code",
      "source": [
        "# Predict probabilities on test data\n",
        "y_test_pred_prob = model.predict_proba(X_test)[:,1]\n",
        "\n",
        "# Classify based on the same threshold\n",
        "y_test_pred = (y_test_pred_prob >= threshold).astype(int)"
      ],
      "metadata": {
        "execution": {
          "iopub.status.busy": "2024-09-05T19:56:42.797226Z",
          "iopub.execute_input": "2024-09-05T19:56:42.797648Z",
          "iopub.status.idle": "2024-09-05T19:56:42.89697Z",
          "shell.execute_reply.started": "2024-09-05T19:56:42.797607Z",
          "shell.execute_reply": "2024-09-05T19:56:42.895183Z"
        },
        "trusted": true,
        "id": "qY0S38-axAxz"
      },
      "execution_count": null,
      "outputs": []
    },
    {
      "cell_type": "markdown",
      "source": [
        "Evaluate the Model (On the Training Set)\n",
        "\n",
        "Now that your logistic regression model has been trained with the binary target (FloodProbability), let's evaluate its performance using the following metrics:\n",
        "\n",
        "- Accuracy: The ratio of correctly predicted instances.\n",
        "- Confusion Matrix: A matrix to evaluate the performance of the model based on actual vs predicted values.\n",
        "- ROC-AUC Score: Measures the quality of the model's classification by analyzing the trade-off between True Positive Rate (TPR) and False Positive Rate (FPR)."
      ],
      "metadata": {
        "id": "hUNt5Yu-xAxz"
      }
    },
    {
      "cell_type": "code",
      "source": [
        "from sklearn.metrics import accuracy_score, confusion_matrix, roc_auc_score\n",
        "\n",
        "# Predict on the training set\n",
        "y_train_pred = model.predict(X_train)\n",
        "\n",
        "# Accuracy on the training set\n",
        "accuracy = accuracy_score(y_train_binary, y_train_pred)\n",
        "print(f\"Training Accuracy: {accuracy:.4f}\")\n",
        "\n",
        "# Confusion matrix\n",
        "cm = confusion_matrix(y_train_binary, y_train_pred)\n",
        "print(\"Confusion Matrix:\")\n",
        "print(cm)\n",
        "\n",
        "# ROC-AUC score\n",
        "roc_auc = roc_auc_score(y_train_binary, model.predict_proba(X_train)[:,1])\n",
        "print(f\"ROC-AUC Score: {roc_auc:.4f}\")"
      ],
      "metadata": {
        "execution": {
          "iopub.status.busy": "2024-09-05T19:58:38.461325Z",
          "iopub.execute_input": "2024-09-05T19:58:38.461795Z",
          "iopub.status.idle": "2024-09-05T19:58:39.658993Z",
          "shell.execute_reply.started": "2024-09-05T19:58:38.46175Z",
          "shell.execute_reply": "2024-09-05T19:58:39.657905Z"
        },
        "trusted": true,
        "id": "iwYt_PbixAx0"
      },
      "execution_count": null,
      "outputs": []
    },
    {
      "cell_type": "markdown",
      "source": [
        "Confusion Matrix (Training Set) Visualization\n",
        "\n",
        "- Visualizing the confusion matrix helps you understand how well the model distinguishes between floods and non-floods in the training dataset."
      ],
      "metadata": {
        "id": "0565dOiuxAx0"
      }
    },
    {
      "cell_type": "code",
      "source": [
        "# Plot confusion matrix\n",
        "plt.figure(figsize=(6,5))\n",
        "sns.heatmap(cm, annot=True, fmt=\"d\", cmap=\"Blues\", cbar=False)\n",
        "plt.title('Confusion Matrix - Training Data')\n",
        "plt.ylabel('Actual')\n",
        "plt.xlabel('Predicted')\n",
        "plt.show()"
      ],
      "metadata": {
        "execution": {
          "iopub.status.busy": "2024-09-05T19:59:41.653006Z",
          "iopub.execute_input": "2024-09-05T19:59:41.653438Z",
          "iopub.status.idle": "2024-09-05T19:59:41.852095Z",
          "shell.execute_reply.started": "2024-09-05T19:59:41.653394Z",
          "shell.execute_reply": "2024-09-05T19:59:41.851044Z"
        },
        "trusted": true,
        "id": "pLDuPkfYxAx0"
      },
      "execution_count": null,
      "outputs": []
    },
    {
      "cell_type": "markdown",
      "source": [
        "ROC Curve (Training Set)\n",
        "- The ROC curve visualizes the trade-off between sensitivity and specificity, giving insight into the model's ability to classify flood vs non-flood cases."
      ],
      "metadata": {
        "id": "123taFgExAx0"
      }
    },
    {
      "cell_type": "code",
      "source": [
        "from sklearn.metrics import roc_curve\n",
        "\n",
        "# ROC Curve\n",
        "fpr, tpr, _ = roc_curve(y_train_binary, model.predict_proba(X_train)[:,1])\n",
        "\n",
        "plt.figure(figsize=(8,6))\n",
        "plt.plot(fpr, tpr, label=f'ROC Curve (AUC = {roc_auc:.2f})')\n",
        "plt.plot([0, 1], [0, 1], 'k--', label='Random Guess')  # Diagonal line\n",
        "plt.xlabel('False Positive Rate')\n",
        "plt.ylabel('True Positive Rate')\n",
        "plt.title('ROC Curve - Training Data')\n",
        "plt.legend(loc='lower right')\n",
        "plt.show()"
      ],
      "metadata": {
        "execution": {
          "iopub.status.busy": "2024-09-05T20:01:13.859854Z",
          "iopub.execute_input": "2024-09-05T20:01:13.861193Z",
          "iopub.status.idle": "2024-09-05T20:01:14.659421Z",
          "shell.execute_reply.started": "2024-09-05T20:01:13.861145Z",
          "shell.execute_reply": "2024-09-05T20:01:14.658164Z"
        },
        "trusted": true,
        "id": "KMxitKpNxAx1"
      },
      "execution_count": null,
      "outputs": []
    },
    {
      "cell_type": "markdown",
      "source": [
        "Evaluate Model Performance on Test Data\n",
        "- Although you won’t have the ground truth labels for the test dataset, you can still use the model to predict the probabilities and classify floods in the test data."
      ],
      "metadata": {
        "id": "ABdy6BBAxAx1"
      }
    },
    {
      "cell_type": "code",
      "source": [
        "# Predict probabilities on the test dataset\n",
        "y_test_pred_prob = model.predict_proba(X_test)[:,1]\n",
        "\n",
        "# Apply the same threshold (0.5 in this case)\n",
        "threshold = 0.5\n",
        "y_test_pred = (y_test_pred_prob >= threshold).astype(int)\n",
        "\n",
        "# Save the predictions to a CSV file\n",
        "submission = pd.DataFrame({'id': test_fdata['id'], 'FloodProbability': y_test_pred_prob, 'FloodClass': y_test_pred})\n",
        "submission.to_csv('flood_predictions.csv', index=False)"
      ],
      "metadata": {
        "execution": {
          "iopub.status.busy": "2024-09-05T20:02:18.656277Z",
          "iopub.execute_input": "2024-09-05T20:02:18.657058Z",
          "iopub.status.idle": "2024-09-05T20:02:21.542967Z",
          "shell.execute_reply.started": "2024-09-05T20:02:18.656999Z",
          "shell.execute_reply": "2024-09-05T20:02:21.541785Z"
        },
        "trusted": true,
        "id": "wkRQSpNpxAx1"
      },
      "execution_count": null,
      "outputs": []
    },
    {
      "cell_type": "markdown",
      "source": [
        "------"
      ],
      "metadata": {
        "id": "1FTTlDEIxAx1"
      }
    },
    {
      "cell_type": "markdown",
      "source": [
        "# Retraining the model"
      ],
      "metadata": {
        "id": "YBQNrmwVxAx1"
      }
    },
    {
      "cell_type": "markdown",
      "source": [
        "### Using Different Threshold"
      ],
      "metadata": {
        "id": "YspUhiXqxAx8"
      }
    },
    {
      "cell_type": "markdown",
      "source": [
        "In logistic regression, we use different thresholds to optimize the performance of the model based on the specific objectives and the nature of the problem.\n",
        "- The default threshold for logistic regression is 0.5, meaning that if the predicted probability of the positive class (e.g., flood) is greater than or equal to 0.5, the model will classify it as positive, otherwise negative.\n",
        "- However, this default threshold might not always be the most suitable, especially in certain situations like imbalanced datasets or when different evaluation metrics are more important."
      ],
      "metadata": {
        "id": "TvmuEDxOxAx8"
      }
    },
    {
      "cell_type": "code",
      "source": [
        "threshold = 0.6\n",
        "y_train_binary = (y_train >= threshold).astype(int)\n",
        "\n",
        "# Convert continuous target y_train into binary (0 or 1) based on the FloodProbability threshold."
      ],
      "metadata": {
        "execution": {
          "iopub.status.busy": "2024-09-05T20:36:50.427131Z",
          "iopub.execute_input": "2024-09-05T20:36:50.427639Z",
          "iopub.status.idle": "2024-09-05T20:36:50.435978Z",
          "shell.execute_reply.started": "2024-09-05T20:36:50.427593Z",
          "shell.execute_reply": "2024-09-05T20:36:50.4346Z"
        },
        "trusted": true,
        "id": "6qdUVyabxAx8"
      },
      "execution_count": null,
      "outputs": []
    },
    {
      "cell_type": "code",
      "source": [
        "# Initialize and train the model\n",
        "model = LogisticRegression(max_iter=1000)\n",
        "model.fit(X_train, y_train_binary)"
      ],
      "metadata": {
        "execution": {
          "iopub.status.busy": "2024-09-05T20:36:55.15969Z",
          "iopub.execute_input": "2024-09-05T20:36:55.160136Z",
          "iopub.status.idle": "2024-09-05T20:37:02.062697Z",
          "shell.execute_reply.started": "2024-09-05T20:36:55.160085Z",
          "shell.execute_reply": "2024-09-05T20:37:02.06109Z"
        },
        "trusted": true,
        "id": "3Xy1f7TuxAx8"
      },
      "execution_count": null,
      "outputs": []
    },
    {
      "cell_type": "code",
      "source": [
        "# Predict probabilities on test data\n",
        "y_test_pred_prob = model.predict_proba(X_test)[:,1]\n",
        "\n",
        "# Classify based on the same threshold\n",
        "y_test_pred = (y_test_pred_prob >= threshold).astype(int)"
      ],
      "metadata": {
        "execution": {
          "iopub.status.busy": "2024-09-05T20:37:04.845549Z",
          "iopub.execute_input": "2024-09-05T20:37:04.846459Z",
          "iopub.status.idle": "2024-09-05T20:37:04.948119Z",
          "shell.execute_reply.started": "2024-09-05T20:37:04.846408Z",
          "shell.execute_reply": "2024-09-05T20:37:04.946064Z"
        },
        "trusted": true,
        "id": "UlUVQEYhxAx9"
      },
      "execution_count": null,
      "outputs": []
    },
    {
      "cell_type": "code",
      "source": [
        "from sklearn.metrics import accuracy_score, confusion_matrix, roc_auc_score\n",
        "\n",
        "# Predict on the training set\n",
        "y_train_pred = model.predict(X_train)\n",
        "\n",
        "# Accuracy on the training set\n",
        "accuracy = accuracy_score(y_train_binary, y_train_pred)\n",
        "print(f\"Training Accuracy: {accuracy:.4f}\")\n",
        "\n",
        "# Confusion matrix\n",
        "cm = confusion_matrix(y_train_binary, y_train_pred)\n",
        "print(\"Confusion Matrix:\")\n",
        "print(cm)\n",
        "\n",
        "# ROC-AUC score\n",
        "roc_auc = roc_auc_score(y_train_binary, model.predict_proba(X_train)[:,1])\n",
        "print(f\"ROC-AUC Score: {roc_auc:.4f}\")"
      ],
      "metadata": {
        "execution": {
          "iopub.status.busy": "2024-09-05T20:37:07.370608Z",
          "iopub.execute_input": "2024-09-05T20:37:07.371051Z",
          "iopub.status.idle": "2024-09-05T20:37:08.453314Z",
          "shell.execute_reply.started": "2024-09-05T20:37:07.371009Z",
          "shell.execute_reply": "2024-09-05T20:37:08.451978Z"
        },
        "trusted": true,
        "id": "7tUjoO2fxAx9"
      },
      "execution_count": null,
      "outputs": []
    },
    {
      "cell_type": "code",
      "source": [
        "# Plot confusion matrix\n",
        "plt.figure(figsize=(6,5))\n",
        "sns.heatmap(cm, annot=True, fmt=\"d\", cmap=\"Reds\", cbar=False)\n",
        "plt.title('Confusion Matrix - Training Data')\n",
        "plt.ylabel('Actual')\n",
        "plt.xlabel('Predicted')\n",
        "plt.show()"
      ],
      "metadata": {
        "execution": {
          "iopub.status.busy": "2024-09-05T20:43:26.237276Z",
          "iopub.execute_input": "2024-09-05T20:43:26.237745Z",
          "iopub.status.idle": "2024-09-05T20:43:26.381093Z",
          "shell.execute_reply.started": "2024-09-05T20:43:26.237701Z",
          "shell.execute_reply": "2024-09-05T20:43:26.379378Z"
        },
        "trusted": true,
        "id": "1Hvy6gxUxAx9"
      },
      "execution_count": null,
      "outputs": []
    },
    {
      "cell_type": "code",
      "source": [
        "from sklearn.metrics import roc_curve\n",
        "\n",
        "# ROC Curve\n",
        "fpr, tpr, _ = roc_curve(y_train_binary, model.predict_proba(X_train)[:,1])\n",
        "\n",
        "plt.figure(figsize=(8,6))\n",
        "plt.plot(fpr, tpr, label=f'ROC Curve (AUC = {roc_auc:.2f})')\n",
        "plt.plot([0, 1], [0, 1], 'k--', label='Random Guess')  # Diagonal line\n",
        "plt.xlabel('False Positive Rate')\n",
        "plt.ylabel('True Positive Rate')\n",
        "plt.title('ROC Curve - Training Data')\n",
        "plt.legend(loc='lower right')\n",
        "plt.show()"
      ],
      "metadata": {
        "execution": {
          "iopub.status.busy": "2024-09-05T20:43:39.304797Z",
          "iopub.execute_input": "2024-09-05T20:43:39.305244Z",
          "iopub.status.idle": "2024-09-05T20:43:40.034537Z",
          "shell.execute_reply.started": "2024-09-05T20:43:39.305204Z",
          "shell.execute_reply": "2024-09-05T20:43:40.033346Z"
        },
        "trusted": true,
        "id": "hKzZuA3fxAx9"
      },
      "execution_count": null,
      "outputs": []
    },
    {
      "cell_type": "markdown",
      "source": [
        "# Comparison of Model Performance\n"
      ],
      "metadata": {
        "id": "9bqCjeIPxAx-"
      }
    },
    {
      "cell_type": "markdown",
      "source": [
        "## 1. Training Accuracy:\n",
        "- ##### Old Accuracy: 0.8483\n",
        "\n",
        "- ##### New Accuracy: 0.9885\n",
        "\n",
        "The accuracy has increased dramatically from 84.83% to 98.85%. This suggests that the new model is making fewer overall errors on the training set.\n",
        "\n",
        "## 2. Confusion Matrix:\n",
        "- ##### Old Confusion Matrix:\n",
        "\n",
        "True Negatives (TN): 435,333\n",
        "\n",
        "False Positives (FP): 72,745\n",
        "\n",
        "False Negatives (FN): 96,864\n",
        "\n",
        "True Positives (TP): 513,015\n",
        "\n",
        "\n",
        "- ##### New Confusion Matrix:\n",
        "\n",
        "True Negatives (TN): 1,075,239\n",
        "\n",
        "False Positives (FP): 3,643\n",
        "\n",
        "False Negatives (FN): 9,239\n",
        "\n",
        "True Positives (TP): 29,836\n",
        "\n",
        "#### Improvements:\n",
        "\n",
        "True Negatives (TN) have increased significantly, which means the model is much better at correctly identifying non-flood cases.\n",
        "False Positives (FP) have drastically decreased from 72,745 to 3,643, which means the model is making far fewer incorrect flood predictions.\n",
        "False Negatives (FN) have decreased from 96,864 to 9,239, showing that the model is better at identifying actual flood events.\n",
        "\n",
        "## 3. ROC-AUC Score:\n",
        "- ##### Old ROC-AUC: 0.9258\n",
        "- ##### New ROC-AUC: 0.9801\n",
        "The ROC-AUC score has improved from 0.9258 to 0.9801, indicating a significant increase in the model's ability to distinguish between the flood and non-flood cases across all threshold values."
      ],
      "metadata": {
        "id": "fo46u_zHxAx-"
      }
    }
  ]
}